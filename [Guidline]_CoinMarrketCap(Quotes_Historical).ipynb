{
  "nbformat": 4,
  "nbformat_minor": 0,
  "metadata": {
    "colab": {
      "provenance": [],
      "authorship_tag": "ABX9TyN+bIA7BjUV3S2RG2YiIBo6",
      "include_colab_link": true
    },
    "kernelspec": {
      "name": "python3",
      "display_name": "Python 3"
    },
    "language_info": {
      "name": "python"
    }
  },
  "cells": [
    {
      "cell_type": "markdown",
      "metadata": {
        "id": "view-in-github",
        "colab_type": "text"
      },
      "source": [
        "<a href=\"https://colab.research.google.com/github/Thanawit-N/Analyze-International-Debt-Statistics/blob/main/%5BGuidline%5D_CoinMarrketCap(Quotes_Historical).ipynb\" target=\"_parent\"><img src=\"https://colab.research.google.com/assets/colab-badge.svg\" alt=\"Open In Colab\"/></a>"
      ]
    },
    {
      "cell_type": "markdown",
      "source": [],
      "metadata": {
        "id": "Z5o9dRbwalXn"
      }
    },
    {
      "cell_type": "markdown",
      "source": [
        "!!NOTE THIS CODE IS NOT COMPLETE\n",
        "YOU HAVE TO FILL APIKEY AND PARAMETER"
      ],
      "metadata": {
        "id": "ED3TU37HaZ0c"
      }
    },
    {
      "cell_type": "code",
      "execution_count": null,
      "metadata": {
        "id": "HsXQtQclHF56"
      },
      "outputs": [],
      "source": [
        "!pip install requests\n",
        "!pip install pandas"
      ]
    },
    {
      "cell_type": "code",
      "source": [
        "import requests\n",
        "import pandas as pd"
      ],
      "metadata": {
        "id": "UCpHwo4QISzg"
      },
      "execution_count": null,
      "outputs": []
    },
    {
      "cell_type": "code",
      "source": [
        "# this endpoint is not available on the basic plans (read more: https://coinmarketcap.com/api/pricing)\n",
        "API_KEY = \"Y O U R _ A P I\"\n",
        "\n",
        "# Base URL for CoinMarketCap API\n",
        "BASE_URL = \"https://pro-api.coinmarketcap.com\"\n",
        "\n",
        "# endpoint to get latest cryptocurrency listings\n",
        "# Reference: https://coinmarketcap.com/api/documentation/v1/#operation/getV1CryptocurrencyCategory\n",
        "ENDPOINT = \"/v2/cryptocurrency/quotes/historical\"\n",
        "\n",
        "#parameter\n",
        "#Read more :https://coinmarketcap.com/api/documentation/v1/#operation/getV2CryptocurrencyQuotesHistorical\n",
        "parameters = {\n",
        "\n",
        "  # Which coin do you want\n",
        "    # At least one \"id\" or \"symbol\" is required for this request.\n",
        "  'id':'1',   #\t[string] One or more comma-separated CoinMarketCap cryptocurrency IDs. Example: \"1,2\"\n",
        "  'symbol':'btc', # [string] Alternatively pass one or more comma-separated cryptocurrency symbols. Example: \"BTC,ETH\".\n",
        "\n",
        "  # starting time, ending time ,interval\n",
        "  'time_start':'time_start',  # [string] Timestamp (Unix or ISO 8601) to start returning quotes for. Optional, if not passed, we'll return quotes calculated in reverse from \"time_end\".\n",
        "  'time_end':' time_end',     # [string] Timestamp (Unix or ISO 8601) to stop returning quotes for (inclusive). Optional, if not passed, we'll default to the current time. If no \"time_start\" is passed, we return quotes in reverse order starting from this time.]\n",
        "  'count':'count',            #\t[number [ 1 .. 10000 ]] [Default:10] The number of interval periods to return results for. Optional, required if both \"time_start\" and \"time_end\" aren't supplied. The default is 10 items. The current query limit is 10000.\n",
        "  'interval':'interval',      #\t[string] [Default:\"5m\"] Valild values: \"yearly\"\"monthly\"\"weekly\"\"daily\"\"hourly\"\"5m\"\"10m\"\"15m\"\"30m\"\"45m\"\"1h\"\"2h\"\"3h\"\"4h\"\"6h\"\"12h\"\"24h\"\"1d\"\"2d\"\"3d\"\"7d\"\"14d\"\"15d\"\"30d\"\"60d\"\"90d\"\"365d\" Interval of time to return data points for. See details in endpoint description.\n",
        "\n",
        "  #  Auxilary\n",
        "}\n",
        "# Headers with your API key\n",
        "headers = {\n",
        "  \"X-CMC_PRO_API_KEY\": API_KEY\n",
        "}\n",
        "\n",
        "# Send the request and get the response\n",
        "response = requests.get(url=f\"{BASE_URL}{ENDPOINT}\",params = parameters, headers=headers)\n",
        "\n",
        "# Check for successful response\n",
        "if response.status_code == 200:\n",
        "  # Parse the JSON response\n",
        "  data = response.json()\n",
        "  # Access the data you need\n",
        "  print(data)\n",
        "else:\n",
        "  print(f\"Error: {response.status_code}\")\n"
      ],
      "metadata": {
        "id": "CK2-KtcfIYx_"
      },
      "execution_count": null,
      "outputs": []
    }
  ]
}